{
 "cells": [
  {
   "cell_type": "code",
   "execution_count": 42,
   "metadata": {},
   "outputs": [
    {
     "name": "stdout",
     "output_type": "stream",
     "text": [
      "19.000000000000004\n",
      "40.00000000000001\n"
     ]
    }
   ],
   "source": [
    "from normal_sabr import Hagan2002NormalSABR\n",
    "\n",
    "p = Hagan2002NormalSABR(f=0.025, shift=0.03, t=1., v_atm_n=0.0040,\n",
    "                              beta=0.5, rho=-0.2, volvol=0.30)\n",
    "k = 0.025\n",
    "print(p.lognormal_vol(k) * 100)\n",
    "print(p.normal_vol(k) * 1e4)"
   ]
  },
  {
   "cell_type": "code",
   "execution_count": 44,
   "metadata": {},
   "outputs": [
    {
     "name": "stdout",
     "output_type": "stream",
     "text": [
      "0.004872703852632678 -0.637407417788931 0.08178545243693079\n"
     ]
    }
   ],
   "source": [
    "from normal_sabr import Hagan2002NormalSABR\n",
    "import numpy as np\n",
    "sabr = Hagan2002NormalSABR(f=2.5271/100, shift=3/100, t=10, beta=0.5)\n",
    "k = np.array([-0.4729, 0.5271, 1.0271, 1.5271, 1.7771, 2.0271, 2.2771, 2.4021,\n",
    "              2.5271, 2.6521, 2.7771, 3.0271, 3.2771, 3.5271, 4.0271, 4.5271,\n",
    "              5.5271]) / 100\n",
    "v_sln = np.array([19.641923, 15.785344, 14.305103, 13.073869, 12.550007, 12.088721,\n",
    "              11.691661, 11.517660, 11.360133, 11.219058, 11.094293, 10.892464,\n",
    "              10.750834, 10.663653, 10.623862, 10.714479, 11.103755])\n",
    "[alpha, rho, volvol] = sabr.fit(k, v_sln)\n",
    "print(alpha, rho, volvol)"
   ]
  },
  {
   "cell_type": "code",
   "execution_count": 47,
   "metadata": {},
   "outputs": [
    {
     "data": {
      "text/plain": [
       "0.01694852278184076"
      ]
     },
     "execution_count": 47,
     "metadata": {},
     "output_type": "execute_result"
    }
   ],
   "source": [
    "from normal_sabr import Hagan2002NormalSABR as hagan2002\n",
    "p = Hagan2002NormalSABR(f=0.025, shift=0.03, t=1., v_atm_n=0.0040,\n",
    "                              beta=0.5, rho=-0.2, volvol=0.30)\n",
    "hagan2002.alpha(p)"
   ]
  },
  {
   "cell_type": "code",
   "execution_count": 48,
   "metadata": {},
   "outputs": [
    {
     "data": {
      "text/plain": [
       "2.5132286262764976"
      ]
     },
     "execution_count": 48,
     "metadata": {},
     "output_type": "execute_result"
    }
   ],
   "source": [
    "from normal_sabr import alpha\n",
    "[v_atm_sln, f, t, beta, rho, volvol] = [0.60, 0.02, 1.5, 1.0, 0.0, 0.0]\n",
    "alpha(v_atm_sln, f, t, beta, rho, volvol)"
   ]
  },
  {
   "cell_type": "code",
   "execution_count": 29,
   "metadata": {},
   "outputs": [
    {
     "data": {
      "text/plain": [
       "296.8806106707276"
      ]
     },
     "execution_count": 29,
     "metadata": {},
     "output_type": "execute_result"
    }
   ],
   "source": [
    "import sabr\n",
    "[k, f, t, v, r, cp] = [0.012, 0.013, 10., 0.20, 0.02, 'call']\n",
    "sabr.lognormal_call(k, f, t, v, r, cp) * 1e5"
   ]
  },
  {
   "cell_type": "markdown",
   "metadata": {},
   "source": []
  }
 ],
 "metadata": {
  "kernelspec": {
   "display_name": "Python 3",
   "language": "python",
   "name": "python3"
  },
  "language_info": {
   "codemirror_mode": {
    "name": "ipython",
    "version": 3
   },
   "file_extension": ".py",
   "mimetype": "text/x-python",
   "name": "python",
   "nbconvert_exporter": "python",
   "pygments_lexer": "ipython3",
   "version": "3.10.11"
  },
  "orig_nbformat": 4
 },
 "nbformat": 4,
 "nbformat_minor": 2
}
